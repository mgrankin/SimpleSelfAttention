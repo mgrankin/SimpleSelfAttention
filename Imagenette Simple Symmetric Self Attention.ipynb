{
 "cells": [
  {
   "cell_type": "code",
   "execution_count": 1,
   "metadata": {},
   "outputs": [],
   "source": [
    "import os\n",
    "os.environ['CUDA_VISIBLE_DEVICES']='0' "
   ]
  },
  {
   "cell_type": "code",
   "execution_count": 2,
   "metadata": {},
   "outputs": [],
   "source": [
    "import torch\n",
    "import torch.nn as nn\n",
    "import torch.nn.functional as F"
   ]
  },
  {
   "cell_type": "code",
   "execution_count": 3,
   "metadata": {},
   "outputs": [],
   "source": [
    "import numpy"
   ]
  },
  {
   "cell_type": "code",
   "execution_count": 4,
   "metadata": {},
   "outputs": [],
   "source": [
    "from fastai.script import *\n",
    "from fastai.vision import *\n",
    "from fastai.callbacks import *\n",
    "from fastai.distributed import *\n",
    "from fastprogress import fastprogress\n",
    "from torchvision.models import *\n",
    "from fastai.vision.models.xresnet import *\n",
    "from fastai.vision.models.xresnet2 import *\n",
    "from fastai.vision.models.presnet import *"
   ]
  },
  {
   "cell_type": "code",
   "execution_count": 5,
   "metadata": {},
   "outputs": [],
   "source": [
    "torch.backends.cudnn.benchmark = True"
   ]
  },
  {
   "cell_type": "markdown",
   "metadata": {},
   "source": [
    "# XResNet with Self Attention"
   ]
  },
  {
   "cell_type": "code",
   "execution_count": 6,
   "metadata": {},
   "outputs": [],
   "source": [
    "#Unmodified from https://github.com/fastai/fastai/blob/5c51f9eabf76853a89a9bc5741804d2ed4407e49/fastai/layers.py\n",
    "def conv1d(ni:int, no:int, ks:int=1, stride:int=1, padding:int=0, bias:bool=False):\n",
    "    \"Create and initialize a `nn.Conv1d` layer with spectral normalization.\"\n",
    "    conv = nn.Conv1d(ni, no, ks, stride=stride, padding=padding, bias=bias)\n",
    "    nn.init.kaiming_normal_(conv.weight)\n",
    "    if bias: conv.bias.data.zero_()\n",
    "    return spectral_norm(conv)\n",
    "\n",
    "\n",
    "\n",
    "# Adapted from SelfAttention layer at https://github.com/fastai/fastai/blob/5c51f9eabf76853a89a9bc5741804d2ed4407e49/fastai/layers.py\n",
    "# Inspired by https://arxiv.org/pdf/1805.08318.pdf\n",
    "class SimpleSelfAttention(nn.Module):\n",
    "    \n",
    "    def __init__(self, n_in:int, ks=1):#, n_out:int):\n",
    "        super().__init__()\n",
    "        \n",
    "        \n",
    "        self.n_in = n_in\n",
    "        self.conv = conv1d(n_in, n_in, ks, padding=ks//2, bias=False)\n",
    "       \n",
    "       \n",
    "        self.gamma = nn.Parameter(tensor([0.]))\n",
    "        \n",
    "        \n",
    "\n",
    "    def forward(self,x):\n",
    "        # symmetry hack\n",
    "        c = self.conv.weight.view(self.n_in,self.n_in)\n",
    "        c = (c + c.t())/2\n",
    "        self.conv.weight = c.view(self.n_in,self.n_in,1)\n",
    "        \n",
    "        size = x.size()\n",
    "        x = x.view(*size[:2],-1)\n",
    "        o = torch.bmm(x.permute(0,2,1).contiguous(),self.conv(x))\n",
    "        \n",
    "       \n",
    "        o = self.gamma * torch.bmm(x,o) + x\n",
    "        \n",
    "           \n",
    "        return o.view(*size).contiguous()        \n",
    "        "
   ]
  },
  {
   "cell_type": "code",
   "execution_count": 7,
   "metadata": {},
   "outputs": [],
   "source": [
    "#unmodified from https://github.com/fastai/fastai/blob/9b9014b8967186dc70c65ca7dcddca1a1232d99d/fastai/vision/models/xresnet.py\n",
    "act_fn = nn.ReLU(inplace=True)\n",
    "\n",
    "def init_cnn(m):\n",
    "    if getattr(m, 'bias', None) is not None: nn.init.constant_(m.bias, 0)\n",
    "    if isinstance(m, (nn.Conv2d,nn.Linear)): nn.init.kaiming_normal_(m.weight)\n",
    "    for l in m.children(): init_cnn(l)\n",
    "\n",
    "def conv(ni, nf, ks=3, stride=1, bias=False):\n",
    "    return nn.Conv2d(ni, nf, kernel_size=ks, stride=stride, padding=ks//2, bias=bias)\n",
    "\n",
    "def noop(x): return x\n",
    "\n",
    "def conv_layer(ni, nf, ks=3, stride=1, zero_bn=False, act=True):\n",
    "    bn = nn.BatchNorm2d(nf)\n",
    "    nn.init.constant_(bn.weight, 0. if zero_bn else 1.)\n",
    "    layers = [conv(ni, nf, ks, stride=stride), bn]\n",
    "    if act: layers.append(act_fn)\n",
    "    return nn.Sequential(*layers)"
   ]
  },
  {
   "cell_type": "code",
   "execution_count": 8,
   "metadata": {},
   "outputs": [],
   "source": [
    "# Modified from https://github.com/fastai/fastai/blob/9b9014b8967186dc70c65ca7dcddca1a1232d99d/fastai/vision/models/xresnet.py\n",
    "# Added self attention\n",
    "class ResBlock(nn.Module):\n",
    "    def __init__(self, expansion, ni, nh, stride=1,sa=False):\n",
    "        super().__init__()\n",
    "        \n",
    "        \n",
    "        nf,ni = nh*expansion,ni*expansion\n",
    "        layers  = [conv_layer(ni, nh, 3, stride=stride),\n",
    "                   conv_layer(nh, nf, 3, zero_bn=True, act=False)\n",
    "        ] if expansion == 1 else [\n",
    "                   conv_layer(ni, nh, 1),\n",
    "                   conv_layer(nh, nh, 3, stride=stride),\n",
    "                   \n",
    "                   conv_layer(nh, nf, 1, zero_bn=True, act=False)\n",
    "                \n",
    "        ]\n",
    "        \n",
    "        self.sa = SimpleSelfAttention(nf,ks=1) if sa else noop\n",
    "        \n",
    "        self.convs = nn.Sequential(*layers)\n",
    "        self.idconv = noop if ni==nf else conv_layer(ni, nf, 1, act=False)\n",
    "        self.pool = noop if stride==1 else nn.AvgPool2d(2, ceil_mode=True)\n",
    "\n",
    "    def forward(self, x): \n",
    "        \n",
    "        \n",
    "        return act_fn(self.sa(self.convs(x)) + self.idconv(self.pool(x)))\n",
    "        "
   ]
  },
  {
   "cell_type": "code",
   "execution_count": 9,
   "metadata": {},
   "outputs": [],
   "source": [
    "# Modified from https://github.com/fastai/fastai/blob/9b9014b8967186dc70c65ca7dcddca1a1232d99d/fastai/vision/models/xresnet.py\n",
    "# Added self attention\n",
    "\n",
    "class XResNet_sa(nn.Sequential):\n",
    "    @classmethod\n",
    "    def create(cls, expansion, layers, c_in=3, c_out=1000):\n",
    "        nfs = [c_in, (c_in+1)*8, 64, 64]\n",
    "        stem = [conv_layer(nfs[i], nfs[i+1], stride=2 if i==0 else 1)\n",
    "            for i in range(3)]\n",
    "\n",
    "        nfs = [64//expansion,64,128,256,512]\n",
    "        res_layers = [cls._make_layer(expansion, nfs[i], nfs[i+1],\n",
    "                                      n_blocks=l, stride=1 if i==0 else 2, sa = True if i in[len(layers)-4] else False)\n",
    "                  for i,l in enumerate(layers)]\n",
    "        res = cls(\n",
    "            *stem,\n",
    "            nn.MaxPool2d(kernel_size=3, stride=2, padding=1),\n",
    "            *res_layers,\n",
    "            \n",
    "            nn.AdaptiveAvgPool2d(1), Flatten(),\n",
    "            nn.Linear(nfs[-1]*expansion, c_out),\n",
    "        )\n",
    "        init_cnn(res)\n",
    "        return res\n",
    "\n",
    "    @staticmethod\n",
    "    def _make_layer(expansion, ni, nf, n_blocks, stride, sa = False):\n",
    "        return nn.Sequential(\n",
    "            *[ResBlock(expansion, ni if i==0 else nf, nf, stride if i==0 else 1, sa if i in [n_blocks -1] else False)\n",
    "              for i in range(n_blocks)])"
   ]
  },
  {
   "cell_type": "code",
   "execution_count": 10,
   "metadata": {},
   "outputs": [],
   "source": [
    "def xresnet50_sa (**kwargs): return XResNet_sa.create(4, [3, 4,  6, 3], **kwargs)"
   ]
  },
  {
   "cell_type": "markdown",
   "metadata": {},
   "source": [
    "# Data loading"
   ]
  },
  {
   "cell_type": "code",
   "execution_count": 11,
   "metadata": {},
   "outputs": [],
   "source": [
    "#https://github.com/fastai/fastai/blob/master/examples/train_imagenette.py\n",
    "\n",
    "def get_data(size, woof, bs, workers=None):\n",
    "    if   size<=128: path = URLs.IMAGEWOOF_160 if woof else URLs.IMAGENETTE_160\n",
    "    elif size<=224: path = URLs.IMAGEWOOF_320 if woof else URLs.IMAGENETTE_320\n",
    "    else          : path = URLs.IMAGEWOOF     if woof else URLs.IMAGENETTE\n",
    "    path = untar_data(path)\n",
    "\n",
    "    n_gpus = num_distrib() or 1\n",
    "    if workers is None: workers = min(8, num_cpus()//n_gpus)\n",
    "\n",
    "    return (ImageList.from_folder(path).split_by_folder(valid='val')\n",
    "            .label_from_folder().transform(([flip_lr(p=0.5)], []), size=size)\n",
    "            .databunch(bs=bs, num_workers=workers)\n",
    "            .presize(size, scale=(0.35,1))\n",
    "            .normalize(imagenet_stats))"
   ]
  },
  {
   "cell_type": "markdown",
   "metadata": {},
   "source": [
    "# Train"
   ]
  },
  {
   "cell_type": "code",
   "execution_count": 12,
   "metadata": {},
   "outputs": [],
   "source": [
    "opt_func = partial(optim.Adam, betas=(0.9,0.99), eps=1e-6)"
   ]
  },
  {
   "cell_type": "code",
   "execution_count": 13,
   "metadata": {},
   "outputs": [],
   "source": [
    "# we use the same parameters for baseline and new model\n",
    "bs = 64\n",
    "lr = 3e-3\n",
    "mixup = 0\n",
    "num_loop = 30"
   ]
  },
  {
   "cell_type": "markdown",
   "metadata": {},
   "source": [
    "##### New model"
   ]
  },
  {
   "cell_type": "code",
   "execution_count": 14,
   "metadata": {},
   "outputs": [],
   "source": [
    "def do_cycle(epochs = 5):\n",
    "    m = xresnet50_sa(c_out=10)\n",
    "    learn = None\n",
    "    gc.collect()\n",
    "    learn = (Learner(data, m, wd=1e-2, opt_func=opt_func,\n",
    "             metrics=[accuracy,top_k_accuracy],\n",
    "             bn_wd=False, true_wd=True,\n",
    "             loss_func = LabelSmoothingCrossEntropy())\n",
    "            )\n",
    "    if mixup: learn = learn.mixup(alpha=mixup)\n",
    "    learn = learn.to_fp16(dynamic=True)\n",
    "    learn.fit_one_cycle(epochs, lr, div_factor=10, pct_start=0.3)\n",
    "    val_preds,val_targets = learn.get_preds()\n",
    "    return accuracy(val_preds, tensor(learn.data.valid_ds.y.items)).item()*100"
   ]
  },
  {
   "cell_type": "markdown",
   "metadata": {},
   "source": [
    "## Imagenette"
   ]
  },
  {
   "cell_type": "code",
   "execution_count": null,
   "metadata": {},
   "outputs": [],
   "source": [
    "image_size = 128\n",
    "data = get_data(image_size,woof =False,bs=bs)"
   ]
  },
  {
   "cell_type": "code",
   "execution_count": null,
   "metadata": {},
   "outputs": [
    {
     "name": "stdout",
     "output_type": "stream",
     "text": [
      "[85.79999804496765, 85.19999980926514, 85.00000238418579, 86.59999966621399, 86.40000224113464, 87.00000047683716, 86.79999709129333, 86.79999709129333, 86.19999885559082, 87.99999952316284, 86.40000224113464, 86.59999966621399, 86.79999709129333, 84.60000157356262, 85.00000238418579, 85.79999804496765, 86.00000143051147, 86.00000143051147, 85.00000238418579, 85.79999804496765, 84.3999981880188, 87.1999979019165, 87.1999979019165, 86.40000224113464, 86.40000224113464, 85.79999804496765, 85.00000238418579, 85.6000006198883, 85.00000238418579, 84.60000157356262]\n",
      "85.98000009854634 0.8874675041324023 84.3999981880188 87.99999952316284\n"
     ]
    }
   ],
   "source": [
    "results = []\n",
    "for i in range(num_loop):\n",
    "    results.append(do_cycle(epochs=5))\n",
    "    \n",
    "print(results)\n",
    "print(np.mean(results), np.std(results), np.min(results), np.max(results))"
   ]
  },
  {
   "cell_type": "code",
   "execution_count": null,
   "metadata": {},
   "outputs": [],
   "source": [
    "image_size = 256\n",
    "data = get_data(image_size,woof =False,bs=bs)"
   ]
  },
  {
   "cell_type": "code",
   "execution_count": null,
   "metadata": {},
   "outputs": [
    {
     "name": "stdout",
     "output_type": "stream",
     "text": [
      "[88.59999775886536, 88.40000033378601, 87.8000020980835, 85.79999804496765, 87.8000020980835, 87.99999952316284, 87.59999871253967, 88.59999775886536, 87.40000128746033, 88.40000033378601, 86.40000224113464, 88.40000033378601, 88.40000033378601, 87.40000128746033, 88.40000033378601, 88.20000290870667, 87.00000047683716, 88.59999775886536, 88.40000033378601, 87.40000128746033, 88.80000114440918, 88.40000033378601, 88.99999856948853, 87.99999952316284, 87.1999979019165, 87.40000128746033, 87.59999871253967, 88.59999775886536, 86.40000224113464, 88.80000114440918]\n",
      "87.9066667954127 0.7758576185495241 85.79999804496765 88.99999856948853\n"
     ]
    }
   ],
   "source": [
    "results = []\n",
    "for i in range(num_loop):\n",
    "    results.append(do_cycle(epochs=5))\n",
    "    \n",
    "print(results)\n",
    "print(np.mean(results), np.std(results), np.min(results), np.max(results))"
   ]
  },
  {
   "cell_type": "code",
   "execution_count": null,
   "metadata": {},
   "outputs": [
    {
     "name": "stdout",
     "output_type": "stream",
     "text": [
      "[93.99999976158142, 95.20000219345093, 93.99999976158142, 93.80000233650208, 94.59999799728394, 94.40000057220459, 94.19999718666077, 93.19999814033508, 94.59999799728394, 93.59999895095825, 94.19999718666077, 94.40000057220459, 94.80000138282776, 93.99999976158142, 94.9999988079071, 94.80000138282776, 94.19999718666077, 94.59999799728394, 94.59999799728394, 93.59999895095825, 94.19999718666077, 95.20000219345093, 94.59999799728394, 94.40000057220459, 95.39999961853027, 94.19999718666077, 93.80000233650208, 94.9999988079071, 93.80000233650208, 94.19999718666077]\n",
      "94.3533327182134 0.515579715127874 93.19999814033508 95.39999961853027\n"
     ]
    }
   ],
   "source": [
    "results = []\n",
    "for i in range(num_loop):\n",
    "    results.append(do_cycle(epochs=20))\n",
    "    \n",
    "print(results)\n",
    "print(np.mean(results), np.std(results), np.min(results), np.max(results))"
   ]
  },
  {
   "cell_type": "markdown",
   "metadata": {},
   "source": [
    "## Imagewoof"
   ]
  },
  {
   "cell_type": "code",
   "execution_count": 15,
   "metadata": {},
   "outputs": [],
   "source": [
    "image_size = 128\n",
    "data = get_data(image_size,woof =True,bs=bs)"
   ]
  },
  {
   "cell_type": "code",
   "execution_count": 16,
   "metadata": {},
   "outputs": [
    {
     "name": "stdout",
     "output_type": "stream",
     "text": [
      "[63.40000033378601, 65.79999923706055, 65.6000018119812, 69.59999799728394, 66.00000262260437, 65.20000100135803, 66.00000262260437, 68.19999814033508, 65.20000100135803, 66.79999828338623, 65.39999842643738, 66.39999747276306, 64.20000195503235, 65.39999842643738, 66.60000085830688, 66.60000085830688, 64.99999761581421, 66.79999828338623, 68.00000071525574, 65.20000100135803, 67.00000166893005, 64.20000195503235, 64.99999761581421, 64.3999993801117, 66.79999828338623, 66.60000085830688, 68.59999895095825, 63.999998569488525, 66.39999747276306, 66.79999828338623]\n",
      "66.03999972343445 1.391785018381755 63.40000033378601 69.59999799728394\n"
     ]
    }
   ],
   "source": [
    "results = []\n",
    "for i in range(num_loop):\n",
    "    results.append(do_cycle(epochs=5))\n",
    "    \n",
    "print(results)\n",
    "print(np.mean(results), np.std(results), np.min(results), np.max(results))"
   ]
  },
  {
   "cell_type": "code",
   "execution_count": 17,
   "metadata": {},
   "outputs": [],
   "source": [
    "image_size = 256\n",
    "data = get_data(image_size,woof =True,bs=bs)"
   ]
  },
  {
   "cell_type": "code",
   "execution_count": null,
   "metadata": {},
   "outputs": [
    {
     "name": "stdout",
     "output_type": "stream",
     "text": [
      "[69.9999988079071, 67.79999732971191, 64.80000019073486, 66.20000004768372, 67.40000247955322, 69.19999718666077, 69.40000057220459, 68.99999976158142, 65.39999842643738, 66.20000004768372, 67.40000247955322, 69.59999799728394, 66.20000004768372, 68.99999976158142, 67.1999990940094, 68.4000015258789, 69.9999988079071, 72.2000002861023, 68.4000015258789, 68.99999976158142, 68.00000071525574, 63.999998569488525, 68.19999814033508, 64.99999761581421, 67.59999990463257, 66.60000085830688, 65.6000018119812, 64.99999761581421, 66.39999747276306, 64.99999761581421]\n",
      "67.47333288192749 1.899111093933636 63.999998569488525 72.2000002861023\n"
     ]
    }
   ],
   "source": [
    "results = []\n",
    "for i in range(num_loop):\n",
    "    results.append(do_cycle(epochs=5))\n",
    "    \n",
    "print(results)\n",
    "print(np.mean(results), np.std(results), np.min(results), np.max(results))"
   ]
  },
  {
   "cell_type": "code",
   "execution_count": null,
   "metadata": {},
   "outputs": [
    {
     "name": "stdout",
     "output_type": "stream",
     "text": [
      "[84.79999899864197, 85.00000238418579, 85.39999723434448, 83.79999995231628, 85.79999804496765, 86.79999709129333, 84.79999899864197, 85.6000006198883, 85.00000238418579, 85.6000006198883, 85.19999980926514, 85.19999980926514, 84.79999899864197, 85.00000238418579, 85.79999804496765, 85.39999723434448, 86.00000143051147, 84.3999981880188, 85.39999723434448, 86.00000143051147, 86.59999966621399, 85.6000006198883, 84.60000157356262, 86.40000224113464, 85.6000006198883, 84.20000076293945, 84.3999981880188, 85.6000006198883, 83.79999995231628, 85.19999980926514]\n",
      "85.25999983151753 0.728743141366321 83.79999995231628 86.79999709129333\n"
     ]
    }
   ],
   "source": [
    "results = []\n",
    "for i in range(num_loop):\n",
    "    results.append(do_cycle(epochs=20))\n",
    "    \n",
    "print(results)\n",
    "print(np.mean(results), np.std(results), np.min(results), np.max(results))"
   ]
  },
  {
   "cell_type": "code",
   "execution_count": null,
   "metadata": {},
   "outputs": [
    {
     "name": "stdout",
     "output_type": "stream",
     "text": [
      "[89.99999761581421, 90.79999923706055, 88.99999856948853, 89.60000276565552, 89.3999993801117, 88.40000033378601, 88.80000114440918, 89.99999761581421, 89.99999761581421, 88.99999856948853, 89.60000276565552, 89.99999761581421, 90.20000100135803, 89.80000019073486, 88.59999775886536, 89.20000195503235, 89.99999761581421, 88.59999775886536, 89.60000276565552, 90.20000100135803, 89.20000195503235, 89.80000019073486, 89.99999761581421, 89.99999761581421, 88.40000033378601, 88.99999856948853, 89.99999761581421, 89.99999761581421, 88.99999856948853, 88.20000290870667]\n",
      "89.47999954223633 0.6462193032336647 88.20000290870667 90.79999923706055\n"
     ]
    }
   ],
   "source": [
    "results = []\n",
    "for i in range(num_loop):\n",
    "    results.append(do_cycle(epochs=80))\n",
    "    \n",
    "print(results)\n",
    "print(np.mean(results), np.std(results), np.min(results), np.max(results))"
   ]
  },
  {
   "cell_type": "code",
   "execution_count": 18,
   "metadata": {},
   "outputs": [
    {
     "name": "stdout",
     "output_type": "stream",
     "text": [
      "[63.40000033378601, 65.79999923706055, 65.6000018119812, 69.59999799728394, 66.00000262260437, 65.20000100135803, 66.00000262260437, 68.19999814033508, 65.20000100135803, 66.79999828338623, 65.39999842643738, 66.39999747276306, 64.20000195503235, 65.39999842643738, 66.60000085830688, 66.60000085830688, 64.99999761581421, 66.79999828338623, 68.00000071525574, 65.20000100135803, 67.00000166893005, 64.20000195503235, 64.99999761581421, 64.3999993801117, 66.79999828338623, 66.60000085830688, 68.59999895095825, 63.999998569488525, 66.39999747276306, 66.79999828338623, 88.40000033378601, 89.3999993801117, 89.20000195503235, 89.60000276565552, 89.20000195503235, 88.80000114440918]\n",
      "69.88333331214056 8.688866313784294 63.40000033378601 89.60000276565552\n",
      "CPU times: user 7d 9h 35min 37s, sys: 7d 4h 39min 2s, total: 14d 14h 14min 39s\n",
      "Wall time: 2d 5h 18min 4s\n"
     ]
    }
   ],
   "source": [
    "%%time\n",
    "results = []\n",
    "for i in range(num_loop//5):\n",
    "    results.append(do_cycle(epochs=400))\n",
    "    \n",
    "print(results)\n",
    "print(np.mean(results), np.std(results), np.min(results), np.max(results))"
   ]
  },
  {
   "cell_type": "code",
   "execution_count": null,
   "metadata": {},
   "outputs": [],
   "source": []
  }
 ],
 "metadata": {
  "kernelspec": {
   "display_name": "Python 3",
   "language": "python",
   "name": "python3"
  },
  "language_info": {
   "codemirror_mode": {
    "name": "ipython",
    "version": 3
   },
   "file_extension": ".py",
   "mimetype": "text/x-python",
   "name": "python",
   "nbconvert_exporter": "python",
   "pygments_lexer": "ipython3",
   "version": "3.7.3"
  }
 },
 "nbformat": 4,
 "nbformat_minor": 2
}
