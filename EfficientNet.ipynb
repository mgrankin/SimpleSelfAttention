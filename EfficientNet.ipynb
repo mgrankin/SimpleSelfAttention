{
 "cells": [
  {
   "cell_type": "markdown",
   "metadata": {},
   "source": [
    "### Not working well unless pretrained"
   ]
  },
  {
   "cell_type": "code",
   "execution_count": 1,
   "metadata": {},
   "outputs": [
    {
     "name": "stdout",
     "output_type": "stream",
     "text": [
      "Requirement already satisfied: efficientnet_pytorch in /home/u/.anaconda3/lib/python3.7/site-packages (0.1.0)\r\n",
      "Requirement already satisfied: torch in /home/u/.anaconda3/lib/python3.7/site-packages (from efficientnet_pytorch) (1.1.0)\r\n",
      "Requirement already satisfied: numpy in /home/u/.anaconda3/lib/python3.7/site-packages (from torch->efficientnet_pytorch) (1.15.4)\r\n"
     ]
    }
   ],
   "source": [
    "!pip install efficientnet_pytorch"
   ]
  },
  {
   "cell_type": "code",
   "execution_count": 2,
   "metadata": {},
   "outputs": [],
   "source": [
    "import os\n",
    "os.environ['CUDA_VISIBLE_DEVICES']='1' "
   ]
  },
  {
   "cell_type": "code",
   "execution_count": 3,
   "metadata": {},
   "outputs": [],
   "source": [
    "import torch\n",
    "import torch.nn as nn\n",
    "import torch.nn.functional as F"
   ]
  },
  {
   "cell_type": "code",
   "execution_count": 4,
   "metadata": {},
   "outputs": [],
   "source": [
    "import json\n",
    "from PIL import Image\n",
    "from torchvision import transforms\n",
    "from efficientnet_pytorch import EfficientNet"
   ]
  },
  {
   "cell_type": "code",
   "execution_count": 5,
   "metadata": {},
   "outputs": [],
   "source": [
    "import numpy"
   ]
  },
  {
   "cell_type": "code",
   "execution_count": 6,
   "metadata": {},
   "outputs": [],
   "source": [
    "from fastai.script import *\n",
    "from fastai.vision import *\n",
    "from fastai.callbacks import *\n",
    "from fastai.distributed import *\n",
    "from fastprogress import fastprogress\n",
    "from torchvision.models import *\n",
    "from fastai.vision.models.xresnet import *\n",
    "from fastai.vision.models.xresnet2 import *\n",
    "from fastai.vision.models.presnet import *"
   ]
  },
  {
   "cell_type": "code",
   "execution_count": 7,
   "metadata": {},
   "outputs": [],
   "source": [
    "torch.backends.cudnn.benchmark = True"
   ]
  },
  {
   "cell_type": "markdown",
   "metadata": {},
   "source": [
    "# EfficientNet"
   ]
  },
  {
   "cell_type": "code",
   "execution_count": 8,
   "metadata": {},
   "outputs": [
    {
     "data": {
      "text/plain": [
       "240"
      ]
     },
     "execution_count": 8,
     "metadata": {},
     "output_type": "execute_result"
    }
   ],
   "source": [
    "model_name = 'efficientnet-b1'\n",
    "image_size = EfficientNet.get_image_size(model_name); image_size "
   ]
  },
  {
   "cell_type": "markdown",
   "metadata": {},
   "source": [
    "# Data loading"
   ]
  },
  {
   "cell_type": "code",
   "execution_count": 9,
   "metadata": {},
   "outputs": [],
   "source": [
    "#https://github.com/fastai/fastai/blob/master/examples/train_imagenette.py\n",
    "\n",
    "def get_data(size, woof, bs, workers=None):\n",
    "    if   size<=128: path = URLs.IMAGEWOOF_160 if woof else URLs.IMAGENETTE_160\n",
    "    elif size<=224: path = URLs.IMAGEWOOF_320 if woof else URLs.IMAGENETTE_320\n",
    "    else          : path = URLs.IMAGEWOOF     if woof else URLs.IMAGENETTE\n",
    "    path = untar_data(path)\n",
    "\n",
    "    n_gpus = num_distrib() or 1\n",
    "    if workers is None: workers = min(8, num_cpus()//n_gpus)\n",
    "\n",
    "    return (ImageList.from_folder(path).split_by_folder(valid='val')\n",
    "            .label_from_folder().transform(([flip_lr(p=0.5)], []), size=size)\n",
    "            .databunch(bs=bs, num_workers=workers)\n",
    "            .presize(size, scale=(0.35,1))\n",
    "            .normalize(imagenet_stats))"
   ]
  },
  {
   "cell_type": "markdown",
   "metadata": {},
   "source": [
    "# Train"
   ]
  },
  {
   "cell_type": "code",
   "execution_count": 10,
   "metadata": {},
   "outputs": [],
   "source": [
    "opt_func = partial(optim.Adam, betas=(0.9,0.99), eps=1e-6)"
   ]
  },
  {
   "cell_type": "code",
   "execution_count": 11,
   "metadata": {},
   "outputs": [],
   "source": [
    "# we use the same parameters for baseline and new model\n",
    "bs = 64\n",
    "lr = 3e-3\n",
    "mixup = 0\n",
    "num_loop = 1"
   ]
  },
  {
   "cell_type": "markdown",
   "metadata": {},
   "source": [
    "##### New model"
   ]
  },
  {
   "cell_type": "code",
   "execution_count": 12,
   "metadata": {},
   "outputs": [],
   "source": [
    "def do_cycle(epochs = 5):\n",
    "    m = EfficientNet.from_name(model_name)\n",
    "    #m = EfficientNet.from_pretrained(model_name)\n",
    "    learn = None\n",
    "    gc.collect()\n",
    "    learn = (Learner(data, m, wd=1e-2, opt_func=opt_func,\n",
    "             metrics=[accuracy,top_k_accuracy],\n",
    "             bn_wd=False, true_wd=True,\n",
    "             loss_func = LabelSmoothingCrossEntropy())\n",
    "            )\n",
    "    if mixup: learn = learn.mixup(alpha=mixup)\n",
    "    learn = learn.to_fp16(dynamic=True)\n",
    "    learn.fit_one_cycle(epochs, lr, div_factor=10, pct_start=0.3)\n",
    "    val_preds,val_targets = learn.get_preds()\n",
    "    return accuracy(val_preds, tensor(learn.data.valid_ds.y.items)).item()*100"
   ]
  },
  {
   "cell_type": "markdown",
   "metadata": {},
   "source": [
    "## Imagenette"
   ]
  },
  {
   "cell_type": "code",
   "execution_count": 13,
   "metadata": {},
   "outputs": [],
   "source": [
    "image_size = 128\n",
    "data = get_data(image_size,woof =False,bs=bs)"
   ]
  },
  {
   "cell_type": "code",
   "execution_count": 14,
   "metadata": {
    "scrolled": true
   },
   "outputs": [
    {
     "name": "stdout",
     "output_type": "stream",
     "text": [
      "CPU times: user 13min 53s, sys: 16min 13s, total: 30min 7s\n",
      "Wall time: 3min 21s\n"
     ]
    }
   ],
   "source": [
    "%%time\n",
    "results = []\n",
    "for i in range(num_loop):\n",
    "    results.append(do_cycle(epochs=5))"
   ]
  },
  {
   "cell_type": "code",
   "execution_count": 15,
   "metadata": {},
   "outputs": [
    {
     "name": "stdout",
     "output_type": "stream",
     "text": [
      "[72.00000286102295]\n",
      "72.00000286102295 0.0 72.00000286102295 72.00000286102295\n"
     ]
    }
   ],
   "source": [
    "print(results)\n",
    "print(np.mean(results), np.std(results), np.min(results), np.max(results))"
   ]
  },
  {
   "cell_type": "code",
   "execution_count": 16,
   "metadata": {},
   "outputs": [],
   "source": [
    "image_size = 256\n",
    "data = get_data(image_size,woof =False,bs=bs)"
   ]
  },
  {
   "cell_type": "code",
   "execution_count": 17,
   "metadata": {
    "scrolled": true
   },
   "outputs": [
    {
     "name": "stdout",
     "output_type": "stream",
     "text": [
      "CPU times: user 16min 15s, sys: 17min 27s, total: 33min 42s\n",
      "Wall time: 5min 17s\n"
     ]
    }
   ],
   "source": [
    "%%time\n",
    "results = []\n",
    "for i in range(num_loop):\n",
    "    results.append(do_cycle(epochs=5))"
   ]
  },
  {
   "cell_type": "code",
   "execution_count": 18,
   "metadata": {},
   "outputs": [
    {
     "name": "stdout",
     "output_type": "stream",
     "text": [
      "[74.19999837875366]\n",
      "74.19999837875366 0.0 74.19999837875366 74.19999837875366\n"
     ]
    }
   ],
   "source": [
    "print(results)\n",
    "print(np.mean(results), np.std(results), np.min(results), np.max(results))"
   ]
  },
  {
   "cell_type": "code",
   "execution_count": 19,
   "metadata": {
    "scrolled": true
   },
   "outputs": [
    {
     "name": "stdout",
     "output_type": "stream",
     "text": [
      "CPU times: user 1h 5min 23s, sys: 1h 10min 12s, total: 2h 15min 35s\n",
      "Wall time: 21min 1s\n"
     ]
    }
   ],
   "source": [
    "%%time\n",
    "results = []\n",
    "for i in range(num_loop):\n",
    "    results.append(do_cycle(epochs=20))"
   ]
  },
  {
   "cell_type": "code",
   "execution_count": 20,
   "metadata": {},
   "outputs": [
    {
     "name": "stdout",
     "output_type": "stream",
     "text": [
      "[93.19999814033508]\n",
      "93.19999814033508 0.0 93.19999814033508 93.19999814033508\n"
     ]
    }
   ],
   "source": [
    "print(results)\n",
    "print(np.mean(results), np.std(results), np.min(results), np.max(results))"
   ]
  },
  {
   "cell_type": "markdown",
   "metadata": {},
   "source": [
    "## Imagewoof"
   ]
  },
  {
   "cell_type": "code",
   "execution_count": 21,
   "metadata": {},
   "outputs": [],
   "source": [
    "image_size = 128\n",
    "data = get_data(image_size,woof =True,bs=bs)"
   ]
  },
  {
   "cell_type": "code",
   "execution_count": 22,
   "metadata": {},
   "outputs": [
    {
     "name": "stdout",
     "output_type": "stream",
     "text": [
      "CPU times: user 13min 42s, sys: 15min 51s, total: 29min 33s\n",
      "Wall time: 3min 16s\n"
     ]
    }
   ],
   "source": [
    "%%time\n",
    "results = []\n",
    "for i in range(num_loop):\n",
    "    results.append(do_cycle(epochs=5))"
   ]
  },
  {
   "cell_type": "code",
   "execution_count": 23,
   "metadata": {},
   "outputs": [
    {
     "name": "stdout",
     "output_type": "stream",
     "text": [
      "[34.99999940395355]\n",
      "34.99999940395355 0.0 34.99999940395355 34.99999940395355\n"
     ]
    }
   ],
   "source": [
    "print(results)\n",
    "print(np.mean(results), np.std(results), np.min(results), np.max(results))"
   ]
  },
  {
   "cell_type": "code",
   "execution_count": 24,
   "metadata": {},
   "outputs": [],
   "source": [
    "image_size = 256\n",
    "data = get_data(image_size,woof =True,bs=bs)"
   ]
  },
  {
   "cell_type": "code",
   "execution_count": 25,
   "metadata": {
    "scrolled": true
   },
   "outputs": [
    {
     "name": "stdout",
     "output_type": "stream",
     "text": [
      "CPU times: user 15min 56s, sys: 17min 12s, total: 33min 8s\n",
      "Wall time: 5min 10s\n"
     ]
    }
   ],
   "source": [
    "%%time\n",
    "results = []\n",
    "for i in range(num_loop):\n",
    "    results.append(do_cycle(epochs=5))"
   ]
  },
  {
   "cell_type": "code",
   "execution_count": 26,
   "metadata": {},
   "outputs": [
    {
     "name": "stdout",
     "output_type": "stream",
     "text": [
      "[42.59999990463257]\n",
      "42.59999990463257 0.0 42.59999990463257 42.59999990463257\n"
     ]
    }
   ],
   "source": [
    "print(results)\n",
    "print(np.mean(results), np.std(results), np.min(results), np.max(results))"
   ]
  },
  {
   "cell_type": "code",
   "execution_count": 27,
   "metadata": {},
   "outputs": [
    {
     "name": "stdout",
     "output_type": "stream",
     "text": [
      "CPU times: user 1h 2min 58s, sys: 1h 7min 51s, total: 2h 10min 49s\n",
      "Wall time: 20min 25s\n"
     ]
    }
   ],
   "source": [
    "%%time\n",
    "results = []\n",
    "for i in range(num_loop):\n",
    "    results.append(do_cycle(epochs=20))"
   ]
  },
  {
   "cell_type": "code",
   "execution_count": 28,
   "metadata": {},
   "outputs": [
    {
     "name": "stdout",
     "output_type": "stream",
     "text": [
      "[79.19999957084656]\n",
      "79.19999957084656 0.0 79.19999957084656 79.19999957084656\n"
     ]
    }
   ],
   "source": [
    "print(results)\n",
    "print(np.mean(results), np.std(results), np.min(results), np.max(results))"
   ]
  },
  {
   "cell_type": "code",
   "execution_count": 29,
   "metadata": {
    "scrolled": true
   },
   "outputs": [
    {
     "name": "stdout",
     "output_type": "stream",
     "text": [
      "CPU times: user 4h 14min 30s, sys: 4h 33min 33s, total: 8h 48min 3s\n",
      "Wall time: 1h 21min 58s\n"
     ]
    }
   ],
   "source": [
    "%%time\n",
    "results = []\n",
    "for i in range(num_loop):\n",
    "    results.append(do_cycle(epochs=80))"
   ]
  },
  {
   "cell_type": "code",
   "execution_count": 30,
   "metadata": {},
   "outputs": [
    {
     "name": "stdout",
     "output_type": "stream",
     "text": [
      "[86.19999885559082]\n",
      "86.19999885559082 0.0 86.19999885559082 86.19999885559082\n"
     ]
    }
   ],
   "source": [
    "print(results)\n",
    "print(np.mean(results), np.std(results), np.min(results), np.max(results))"
   ]
  },
  {
   "cell_type": "code",
   "execution_count": 31,
   "metadata": {
    "scrolled": true
   },
   "outputs": [
    {
     "name": "stdout",
     "output_type": "stream",
     "text": [
      "CPU times: user 21h 4min 40s, sys: 22h 39min 54s, total: 1d 19h 44min 35s\n",
      "Wall time: 6h 50min 38s\n"
     ]
    }
   ],
   "source": [
    "%%time\n",
    "results = []\n",
    "for i in range(num_loop):\n",
    "    results.append(do_cycle(epochs=400))"
   ]
  },
  {
   "cell_type": "code",
   "execution_count": 32,
   "metadata": {},
   "outputs": [
    {
     "name": "stdout",
     "output_type": "stream",
     "text": [
      "[89.3999993801117]\n",
      "89.3999993801117 0.0 89.3999993801117 89.3999993801117\n"
     ]
    }
   ],
   "source": [
    "print(results)\n",
    "print(np.mean(results), np.std(results), np.min(results), np.max(results))"
   ]
  }
 ],
 "metadata": {
  "kernelspec": {
   "display_name": "Python 3",
   "language": "python",
   "name": "python3"
  },
  "language_info": {
   "codemirror_mode": {
    "name": "ipython",
    "version": 3
   },
   "file_extension": ".py",
   "mimetype": "text/x-python",
   "name": "python",
   "nbconvert_exporter": "python",
   "pygments_lexer": "ipython3",
   "version": "3.7.3"
  }
 },
 "nbformat": 4,
 "nbformat_minor": 2
}
