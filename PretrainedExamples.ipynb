{
 "cells": [
  {
   "cell_type": "markdown",
   "metadata": {},
   "source": [
    "## sa 0/1 - Simple Self-Attention"
   ]
  },
  {
   "cell_type": "code",
   "execution_count": 1,
   "metadata": {},
   "outputs": [
    {
     "name": "stdout",
     "output_type": "stream",
     "text": [
      "lr: 0.001; eff_lr: 0.001; size: 256; alpha: 0.99; mom: 0.9; eps: 1e-06\n",
      "/home/u/.fastai/data/imagewoof\n"
     ]
    },
    {
     "data": {
      "text/html": [
       "<table border=\"1\" class=\"dataframe\">\n",
       "  <thead>\n",
       "    <tr style=\"text-align: left;\">\n",
       "      <th>epoch</th>\n",
       "      <th>train_loss</th>\n",
       "      <th>valid_loss</th>\n",
       "      <th>accuracy</th>\n",
       "      <th>top_k_accuracy</th>\n",
       "      <th>time</th>\n",
       "    </tr>\n",
       "  </thead>\n",
       "  <tbody>\n",
       "    <tr>\n",
       "      <td>0</td>\n",
       "      <td>0.570098</td>\n",
       "      <td>1.036258</td>\n",
       "      <td>0.814000</td>\n",
       "      <td>0.992000</td>\n",
       "      <td>01:06</td>\n",
       "    </tr>\n",
       "    <tr>\n",
       "      <td>1</td>\n",
       "      <td>0.558145</td>\n",
       "      <td>1.082632</td>\n",
       "      <td>0.732000</td>\n",
       "      <td>0.972000</td>\n",
       "      <td>00:44</td>\n",
       "    </tr>\n",
       "    <tr>\n",
       "      <td>2</td>\n",
       "      <td>0.467591</td>\n",
       "      <td>0.450448</td>\n",
       "      <td>0.854000</td>\n",
       "      <td>0.996000</td>\n",
       "      <td>00:46</td>\n",
       "    </tr>\n",
       "    <tr>\n",
       "      <td>3</td>\n",
       "      <td>0.349513</td>\n",
       "      <td>0.424845</td>\n",
       "      <td>0.884000</td>\n",
       "      <td>1.000000</td>\n",
       "      <td>00:45</td>\n",
       "    </tr>\n",
       "    <tr>\n",
       "      <td>4</td>\n",
       "      <td>0.245039</td>\n",
       "      <td>0.299078</td>\n",
       "      <td>0.916000</td>\n",
       "      <td>0.998000</td>\n",
       "      <td>00:45</td>\n",
       "    </tr>\n",
       "  </tbody>\n",
       "</table>"
      ],
      "text/plain": [
       "<IPython.core.display.HTML object>"
      ]
     },
     "metadata": {},
     "output_type": "display_data"
    }
   ],
   "source": [
    "%run pretrained.py --arch resnet50 --pretrained 1 --woof 1 --size 256 --bs 256 \\\n",
    "        --mixup 0 --sa 0 --epoch 5  --lr 1e-3 --gpu 0 --opt adam"
   ]
  },
  {
   "cell_type": "code",
   "execution_count": 2,
   "metadata": {},
   "outputs": [
    {
     "name": "stdout",
     "output_type": "stream",
     "text": [
      "lr: 0.001; eff_lr: 0.001; size: 256; alpha: 0.99; mom: 0.9; eps: 1e-06\n",
      "/home/u/.fastai/data/imagewoof\n"
     ]
    },
    {
     "data": {
      "text/html": [
       "<table border=\"1\" class=\"dataframe\">\n",
       "  <thead>\n",
       "    <tr style=\"text-align: left;\">\n",
       "      <th>epoch</th>\n",
       "      <th>train_loss</th>\n",
       "      <th>valid_loss</th>\n",
       "      <th>accuracy</th>\n",
       "      <th>top_k_accuracy</th>\n",
       "      <th>time</th>\n",
       "    </tr>\n",
       "  </thead>\n",
       "  <tbody>\n",
       "    <tr>\n",
       "      <td>0</td>\n",
       "      <td>0.551041</td>\n",
       "      <td>1.180071</td>\n",
       "      <td>0.794000</td>\n",
       "      <td>0.976000</td>\n",
       "      <td>00:52</td>\n",
       "    </tr>\n",
       "    <tr>\n",
       "      <td>1</td>\n",
       "      <td>0.583770</td>\n",
       "      <td>0.486042</td>\n",
       "      <td>0.848000</td>\n",
       "      <td>0.990000</td>\n",
       "      <td>00:52</td>\n",
       "    </tr>\n",
       "    <tr>\n",
       "      <td>2</td>\n",
       "      <td>0.492257</td>\n",
       "      <td>0.422376</td>\n",
       "      <td>0.864000</td>\n",
       "      <td>0.994000</td>\n",
       "      <td>00:52</td>\n",
       "    </tr>\n",
       "    <tr>\n",
       "      <td>3</td>\n",
       "      <td>0.343125</td>\n",
       "      <td>0.334455</td>\n",
       "      <td>0.890000</td>\n",
       "      <td>1.000000</td>\n",
       "      <td>00:51</td>\n",
       "    </tr>\n",
       "    <tr>\n",
       "      <td>4</td>\n",
       "      <td>0.236132</td>\n",
       "      <td>0.285765</td>\n",
       "      <td>0.912000</td>\n",
       "      <td>1.000000</td>\n",
       "      <td>00:51</td>\n",
       "    </tr>\n",
       "  </tbody>\n",
       "</table>"
      ],
      "text/plain": [
       "<IPython.core.display.HTML object>"
      ]
     },
     "metadata": {},
     "output_type": "display_data"
    }
   ],
   "source": [
    "# sa = 1\n",
    "%run pretrained.py --arch resnet50 --pretrained 1 --woof 1 --size 256 --bs 256 \\\n",
    "        --mixup 0 --sa 1 --epoch 5  --lr 1e-3 --gpu 0 --opt adam"
   ]
  },
  {
   "cell_type": "markdown",
   "metadata": {},
   "source": [
    "## tested RAdam"
   ]
  },
  {
   "cell_type": "code",
   "execution_count": 3,
   "metadata": {},
   "outputs": [
    {
     "name": "stdout",
     "output_type": "stream",
     "text": [
      "lr: 0.001; eff_lr: 0.001; size: 256; alpha: 0.99; mom: 0.9; eps: 1e-06\n",
      "/home/u/.fastai/data/imagewoof\n"
     ]
    },
    {
     "data": {
      "text/html": [
       "<table border=\"1\" class=\"dataframe\">\n",
       "  <thead>\n",
       "    <tr style=\"text-align: left;\">\n",
       "      <th>epoch</th>\n",
       "      <th>train_loss</th>\n",
       "      <th>valid_loss</th>\n",
       "      <th>accuracy</th>\n",
       "      <th>top_k_accuracy</th>\n",
       "      <th>time</th>\n",
       "    </tr>\n",
       "  </thead>\n",
       "  <tbody>\n",
       "    <tr>\n",
       "      <td>0</td>\n",
       "      <td>1.151498</td>\n",
       "      <td>0.403479</td>\n",
       "      <td>0.908000</td>\n",
       "      <td>1.000000</td>\n",
       "      <td>00:46</td>\n",
       "    </tr>\n",
       "    <tr>\n",
       "      <td>1</td>\n",
       "      <td>0.616087</td>\n",
       "      <td>0.751796</td>\n",
       "      <td>0.828000</td>\n",
       "      <td>0.984000</td>\n",
       "      <td>00:46</td>\n",
       "    </tr>\n",
       "    <tr>\n",
       "      <td>2</td>\n",
       "      <td>0.449116</td>\n",
       "      <td>0.421313</td>\n",
       "      <td>0.880000</td>\n",
       "      <td>0.996000</td>\n",
       "      <td>00:45</td>\n",
       "    </tr>\n",
       "    <tr>\n",
       "      <td>3</td>\n",
       "      <td>0.312584</td>\n",
       "      <td>0.299308</td>\n",
       "      <td>0.916000</td>\n",
       "      <td>0.998000</td>\n",
       "      <td>00:45</td>\n",
       "    </tr>\n",
       "    <tr>\n",
       "      <td>4</td>\n",
       "      <td>0.216319</td>\n",
       "      <td>0.325058</td>\n",
       "      <td>0.906000</td>\n",
       "      <td>0.996000</td>\n",
       "      <td>00:46</td>\n",
       "    </tr>\n",
       "  </tbody>\n",
       "</table>"
      ],
      "text/plain": [
       "<IPython.core.display.HTML object>"
      ]
     },
     "metadata": {},
     "output_type": "display_data"
    }
   ],
   "source": [
    "%run pretrained.py --arch resnet50 --pretrained 1 --woof 1 --size 256 --bs 256 \\\n",
    "        --mixup 0 --sa 0 --epoch 5  --lr 1e-3 --gpu 0 --opt radam"
   ]
  },
  {
   "cell_type": "code",
   "execution_count": 4,
   "metadata": {},
   "outputs": [
    {
     "name": "stdout",
     "output_type": "stream",
     "text": [
      "lr: 0.001; eff_lr: 0.001; size: 256; alpha: 0.99; mom: 0.9; eps: 1e-06\n",
      "/home/u/.fastai/data/imagewoof\n"
     ]
    },
    {
     "data": {
      "text/html": [
       "<table border=\"1\" class=\"dataframe\">\n",
       "  <thead>\n",
       "    <tr style=\"text-align: left;\">\n",
       "      <th>epoch</th>\n",
       "      <th>train_loss</th>\n",
       "      <th>valid_loss</th>\n",
       "      <th>accuracy</th>\n",
       "      <th>top_k_accuracy</th>\n",
       "      <th>time</th>\n",
       "    </tr>\n",
       "  </thead>\n",
       "  <tbody>\n",
       "    <tr>\n",
       "      <td>0</td>\n",
       "      <td>1.016764</td>\n",
       "      <td>0.400428</td>\n",
       "      <td>0.914000</td>\n",
       "      <td>0.998000</td>\n",
       "      <td>00:52</td>\n",
       "    </tr>\n",
       "    <tr>\n",
       "      <td>1</td>\n",
       "      <td>0.572657</td>\n",
       "      <td>0.653792</td>\n",
       "      <td>0.842000</td>\n",
       "      <td>0.994000</td>\n",
       "      <td>00:52</td>\n",
       "    </tr>\n",
       "    <tr>\n",
       "      <td>2</td>\n",
       "      <td>0.434853</td>\n",
       "      <td>0.561629</td>\n",
       "      <td>0.850000</td>\n",
       "      <td>0.996000</td>\n",
       "      <td>00:51</td>\n",
       "    </tr>\n",
       "    <tr>\n",
       "      <td>3</td>\n",
       "      <td>0.311174</td>\n",
       "      <td>0.349005</td>\n",
       "      <td>0.906000</td>\n",
       "      <td>0.998000</td>\n",
       "      <td>00:52</td>\n",
       "    </tr>\n",
       "    <tr>\n",
       "      <td>4</td>\n",
       "      <td>0.212767</td>\n",
       "      <td>0.276974</td>\n",
       "      <td>0.924000</td>\n",
       "      <td>1.000000</td>\n",
       "      <td>00:50</td>\n",
       "    </tr>\n",
       "  </tbody>\n",
       "</table>"
      ],
      "text/plain": [
       "<IPython.core.display.HTML object>"
      ]
     },
     "metadata": {},
     "output_type": "display_data"
    }
   ],
   "source": [
    "# sa = 1\n",
    "%run pretrained.py --arch resnet50 --pretrained 1 --woof 1 --size 256 --bs 256 \\\n",
    "        --mixup 0 --sa 1 --epoch 5  --lr 1e-3 --gpu 0 --opt radam"
   ]
  },
  {
   "cell_type": "markdown",
   "metadata": {},
   "source": [
    "## tested Novograd"
   ]
  },
  {
   "cell_type": "code",
   "execution_count": 5,
   "metadata": {},
   "outputs": [
    {
     "name": "stdout",
     "output_type": "stream",
     "text": [
      "lr: 0.001; eff_lr: 0.001; size: 256; alpha: 0.99; mom: 0.9; eps: 1e-06\n",
      "/home/u/.fastai/data/imagewoof\n"
     ]
    },
    {
     "data": {
      "text/html": [
       "<table border=\"1\" class=\"dataframe\">\n",
       "  <thead>\n",
       "    <tr style=\"text-align: left;\">\n",
       "      <th>epoch</th>\n",
       "      <th>train_loss</th>\n",
       "      <th>valid_loss</th>\n",
       "      <th>accuracy</th>\n",
       "      <th>top_k_accuracy</th>\n",
       "      <th>time</th>\n",
       "    </tr>\n",
       "  </thead>\n",
       "  <tbody>\n",
       "    <tr>\n",
       "      <td>0</td>\n",
       "      <td>2.728579</td>\n",
       "      <td>0.808416</td>\n",
       "      <td>0.760000</td>\n",
       "      <td>0.958000</td>\n",
       "      <td>00:47</td>\n",
       "    </tr>\n",
       "    <tr>\n",
       "      <td>1</td>\n",
       "      <td>1.255897</td>\n",
       "      <td>0.360622</td>\n",
       "      <td>0.876000</td>\n",
       "      <td>0.994000</td>\n",
       "      <td>00:47</td>\n",
       "    </tr>\n",
       "    <tr>\n",
       "      <td>2</td>\n",
       "      <td>0.681341</td>\n",
       "      <td>0.351974</td>\n",
       "      <td>0.886000</td>\n",
       "      <td>0.998000</td>\n",
       "      <td>00:47</td>\n",
       "    </tr>\n",
       "    <tr>\n",
       "      <td>3</td>\n",
       "      <td>0.435708</td>\n",
       "      <td>0.313779</td>\n",
       "      <td>0.898000</td>\n",
       "      <td>1.000000</td>\n",
       "      <td>00:47</td>\n",
       "    </tr>\n",
       "    <tr>\n",
       "      <td>4</td>\n",
       "      <td>0.341809</td>\n",
       "      <td>0.317767</td>\n",
       "      <td>0.900000</td>\n",
       "      <td>1.000000</td>\n",
       "      <td>00:47</td>\n",
       "    </tr>\n",
       "  </tbody>\n",
       "</table>"
      ],
      "text/plain": [
       "<IPython.core.display.HTML object>"
      ]
     },
     "metadata": {},
     "output_type": "display_data"
    }
   ],
   "source": [
    "%run pretrained.py --arch resnet50 --pretrained 1 --woof 1 --size 256 --bs 256 \\\n",
    "        --mixup 0 --sa 0 --epoch 5  --lr 1e-3 --gpu 0 --opt novograd"
   ]
  },
  {
   "cell_type": "code",
   "execution_count": 6,
   "metadata": {},
   "outputs": [
    {
     "name": "stdout",
     "output_type": "stream",
     "text": [
      "lr: 0.01; eff_lr: 0.01; size: 256; alpha: 0.99; mom: 0.9; eps: 1e-06\n",
      "/home/u/.fastai/data/imagewoof\n"
     ]
    },
    {
     "data": {
      "text/html": [
       "<table border=\"1\" class=\"dataframe\">\n",
       "  <thead>\n",
       "    <tr style=\"text-align: left;\">\n",
       "      <th>epoch</th>\n",
       "      <th>train_loss</th>\n",
       "      <th>valid_loss</th>\n",
       "      <th>accuracy</th>\n",
       "      <th>top_k_accuracy</th>\n",
       "      <th>time</th>\n",
       "    </tr>\n",
       "  </thead>\n",
       "  <tbody>\n",
       "    <tr>\n",
       "      <td>0</td>\n",
       "      <td>1.219490</td>\n",
       "      <td>0.657691</td>\n",
       "      <td>0.848000</td>\n",
       "      <td>0.994000</td>\n",
       "      <td>00:49</td>\n",
       "    </tr>\n",
       "    <tr>\n",
       "      <td>1</td>\n",
       "      <td>0.619797</td>\n",
       "      <td>0.320814</td>\n",
       "      <td>0.894000</td>\n",
       "      <td>0.996000</td>\n",
       "      <td>00:48</td>\n",
       "    </tr>\n",
       "    <tr>\n",
       "      <td>2</td>\n",
       "      <td>0.423287</td>\n",
       "      <td>0.371066</td>\n",
       "      <td>0.894000</td>\n",
       "      <td>0.992000</td>\n",
       "      <td>00:47</td>\n",
       "    </tr>\n",
       "    <tr>\n",
       "      <td>3</td>\n",
       "      <td>0.312455</td>\n",
       "      <td>0.287648</td>\n",
       "      <td>0.900000</td>\n",
       "      <td>0.998000</td>\n",
       "      <td>00:46</td>\n",
       "    </tr>\n",
       "    <tr>\n",
       "      <td>4</td>\n",
       "      <td>0.217625</td>\n",
       "      <td>0.294103</td>\n",
       "      <td>0.922000</td>\n",
       "      <td>0.998000</td>\n",
       "      <td>00:49</td>\n",
       "    </tr>\n",
       "  </tbody>\n",
       "</table>"
      ],
      "text/plain": [
       "<IPython.core.display.HTML object>"
      ]
     },
     "metadata": {},
     "output_type": "display_data"
    }
   ],
   "source": [
    "# lr change\n",
    "%run pretrained.py --arch resnet50 --pretrained 1 --woof 1 --size 256 --bs 256 \\\n",
    "        --mixup 0 --sa 0 --epoch 5  --lr 1e-2 --gpu 0 --opt novograd"
   ]
  },
  {
   "cell_type": "code",
   "execution_count": 7,
   "metadata": {},
   "outputs": [
    {
     "name": "stdout",
     "output_type": "stream",
     "text": [
      "lr: 0.001; eff_lr: 0.001; size: 256; alpha: 0.99; mom: 0.9; eps: 1e-06\n",
      "/home/u/.fastai/data/imagewoof\n"
     ]
    },
    {
     "data": {
      "text/html": [
       "<table border=\"1\" class=\"dataframe\">\n",
       "  <thead>\n",
       "    <tr style=\"text-align: left;\">\n",
       "      <th>epoch</th>\n",
       "      <th>train_loss</th>\n",
       "      <th>valid_loss</th>\n",
       "      <th>accuracy</th>\n",
       "      <th>top_k_accuracy</th>\n",
       "      <th>time</th>\n",
       "    </tr>\n",
       "  </thead>\n",
       "  <tbody>\n",
       "    <tr>\n",
       "      <td>0</td>\n",
       "      <td>2.688163</td>\n",
       "      <td>0.798996</td>\n",
       "      <td>0.768000</td>\n",
       "      <td>0.956000</td>\n",
       "      <td>00:52</td>\n",
       "    </tr>\n",
       "    <tr>\n",
       "      <td>1</td>\n",
       "      <td>1.269774</td>\n",
       "      <td>0.392107</td>\n",
       "      <td>0.880000</td>\n",
       "      <td>0.986000</td>\n",
       "      <td>00:53</td>\n",
       "    </tr>\n",
       "    <tr>\n",
       "      <td>2</td>\n",
       "      <td>0.682992</td>\n",
       "      <td>0.331516</td>\n",
       "      <td>0.894000</td>\n",
       "      <td>1.000000</td>\n",
       "      <td>00:53</td>\n",
       "    </tr>\n",
       "    <tr>\n",
       "      <td>3</td>\n",
       "      <td>0.448097</td>\n",
       "      <td>0.325140</td>\n",
       "      <td>0.902000</td>\n",
       "      <td>1.000000</td>\n",
       "      <td>00:52</td>\n",
       "    </tr>\n",
       "    <tr>\n",
       "      <td>4</td>\n",
       "      <td>0.342227</td>\n",
       "      <td>0.327836</td>\n",
       "      <td>0.898000</td>\n",
       "      <td>1.000000</td>\n",
       "      <td>00:53</td>\n",
       "    </tr>\n",
       "  </tbody>\n",
       "</table>"
      ],
      "text/plain": [
       "<IPython.core.display.HTML object>"
      ]
     },
     "metadata": {},
     "output_type": "display_data"
    }
   ],
   "source": [
    "# sa = 1\n",
    "%run pretrained.py --arch resnet50 --pretrained 1 --woof 1 --size 256 --bs 256 \\\n",
    "        --mixup 0 --sa 1 --epoch 5  --lr 1e-3 --gpu 0 --opt novograd"
   ]
  },
  {
   "cell_type": "code",
   "execution_count": 8,
   "metadata": {},
   "outputs": [
    {
     "name": "stdout",
     "output_type": "stream",
     "text": [
      "lr: 0.01; eff_lr: 0.01; size: 256; alpha: 0.99; mom: 0.9; eps: 1e-06\n",
      "/home/u/.fastai/data/imagewoof\n"
     ]
    },
    {
     "data": {
      "text/html": [
       "<table border=\"1\" class=\"dataframe\">\n",
       "  <thead>\n",
       "    <tr style=\"text-align: left;\">\n",
       "      <th>epoch</th>\n",
       "      <th>train_loss</th>\n",
       "      <th>valid_loss</th>\n",
       "      <th>accuracy</th>\n",
       "      <th>top_k_accuracy</th>\n",
       "      <th>time</th>\n",
       "    </tr>\n",
       "  </thead>\n",
       "  <tbody>\n",
       "    <tr>\n",
       "      <td>0</td>\n",
       "      <td>1.146696</td>\n",
       "      <td>0.388316</td>\n",
       "      <td>0.868000</td>\n",
       "      <td>0.998000</td>\n",
       "      <td>00:52</td>\n",
       "    </tr>\n",
       "    <tr>\n",
       "      <td>1</td>\n",
       "      <td>0.589743</td>\n",
       "      <td>0.476127</td>\n",
       "      <td>0.878000</td>\n",
       "      <td>0.990000</td>\n",
       "      <td>00:52</td>\n",
       "    </tr>\n",
       "    <tr>\n",
       "      <td>2</td>\n",
       "      <td>0.406059</td>\n",
       "      <td>0.344310</td>\n",
       "      <td>0.892000</td>\n",
       "      <td>0.998000</td>\n",
       "      <td>00:52</td>\n",
       "    </tr>\n",
       "    <tr>\n",
       "      <td>3</td>\n",
       "      <td>0.305303</td>\n",
       "      <td>0.292470</td>\n",
       "      <td>0.920000</td>\n",
       "      <td>1.000000</td>\n",
       "      <td>00:53</td>\n",
       "    </tr>\n",
       "    <tr>\n",
       "      <td>4</td>\n",
       "      <td>0.228737</td>\n",
       "      <td>0.259672</td>\n",
       "      <td>0.926000</td>\n",
       "      <td>1.000000</td>\n",
       "      <td>00:53</td>\n",
       "    </tr>\n",
       "  </tbody>\n",
       "</table>"
      ],
      "text/plain": [
       "<IPython.core.display.HTML object>"
      ]
     },
     "metadata": {},
     "output_type": "display_data"
    }
   ],
   "source": [
    "# sa = 1, lr \n",
    "%run pretrained.py --arch resnet50 --pretrained 1 --woof 1 --size 256 --bs 256 \\\n",
    "        --mixup 0 --sa 1 --epoch 5  --lr 1e-2 --gpu 0 --opt novograd"
   ]
  },
  {
   "cell_type": "code",
   "execution_count": null,
   "metadata": {},
   "outputs": [],
   "source": []
  }
 ],
 "metadata": {
  "kernelspec": {
   "display_name": "Python [conda env:fastai]",
   "language": "python",
   "name": "conda-env-fastai-py"
  },
  "language_info": {
   "codemirror_mode": {
    "name": "ipython",
    "version": 3
   },
   "file_extension": ".py",
   "mimetype": "text/x-python",
   "name": "python",
   "nbconvert_exporter": "python",
   "pygments_lexer": "ipython3",
   "version": "3.7.3"
  }
 },
 "nbformat": 4,
 "nbformat_minor": 2
}
