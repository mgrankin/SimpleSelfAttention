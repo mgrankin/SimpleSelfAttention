{
 "cells": [
  {
   "cell_type": "code",
   "execution_count": 1,
   "metadata": {},
   "outputs": [],
   "source": [
    "import os\n",
    "os.environ['CUDA_VISIBLE_DEVICES']='1' "
   ]
  },
  {
   "cell_type": "code",
   "execution_count": 2,
   "metadata": {},
   "outputs": [],
   "source": [
    "import torch\n",
    "import torch.nn as nn\n",
    "import torch.nn.functional as F"
   ]
  },
  {
   "cell_type": "code",
   "execution_count": 3,
   "metadata": {},
   "outputs": [],
   "source": [
    "import numpy"
   ]
  },
  {
   "cell_type": "code",
   "execution_count": 4,
   "metadata": {},
   "outputs": [],
   "source": [
    "from fastai.script import *\n",
    "from fastai.vision import *\n",
    "from fastai.callbacks import *\n",
    "from fastai.distributed import *\n",
    "from fastprogress import fastprogress\n",
    "from torchvision.models import *\n",
    "from fastai.vision.models.xresnet import *\n",
    "from fastai.vision.models.xresnet2 import *\n",
    "from fastai.vision.models.presnet import *"
   ]
  },
  {
   "cell_type": "code",
   "execution_count": 5,
   "metadata": {},
   "outputs": [],
   "source": [
    "torch.backends.cudnn.benchmark = True"
   ]
  },
  {
   "cell_type": "markdown",
   "metadata": {},
   "source": [
    "# XResNet with Self Attention"
   ]
  },
  {
   "cell_type": "code",
   "execution_count": 6,
   "metadata": {},
   "outputs": [],
   "source": [
    "#Unmodified from https://github.com/fastai/fastai/blob/5c51f9eabf76853a89a9bc5741804d2ed4407e49/fastai/layers.py\n",
    "def conv1d(ni:int, no:int, ks:int=1, stride:int=1, padding:int=0, bias:bool=False):\n",
    "    \"Create and initialize a `nn.Conv1d` layer with spectral normalization.\"\n",
    "    conv = nn.Conv1d(ni, no, ks, stride=stride, padding=padding, bias=bias)\n",
    "    nn.init.kaiming_normal_(conv.weight)\n",
    "    if bias: conv.bias.data.zero_()\n",
    "    return spectral_norm(conv)\n",
    "\n",
    "\n",
    "\n",
    "# Adapted from SelfAttention layer at https://github.com/fastai/fastai/blob/5c51f9eabf76853a89a9bc5741804d2ed4407e49/fastai/layers.py\n",
    "# Inspired by https://arxiv.org/pdf/1805.08318.pdf\n",
    "class SimpleSelfAttention(nn.Module):\n",
    "    \n",
    "    def __init__(self, n_in:int, ks=1):#, n_out:int):\n",
    "        super().__init__()\n",
    "        \n",
    "        \n",
    "        self.n_in = n_in\n",
    "        self.conv = conv1d(n_in, n_in, ks, padding=ks//2, bias=False)\n",
    "       \n",
    "       \n",
    "        self.gamma = nn.Parameter(tensor([0.]))\n",
    "        \n",
    "        \n",
    "\n",
    "    def forward(self,x):\n",
    "        # symmetry hack\n",
    "        c = self.conv.weight.view(self.n_in,self.n_in)\n",
    "        c = (c + c.t())/2\n",
    "        self.conv.weight = c.view(self.n_in,self.n_in,1)\n",
    "        \n",
    "        size = x.size()\n",
    "        x = x.view(*size[:2],-1)\n",
    "        o = torch.bmm(x.permute(0,2,1).contiguous(),self.conv(x))\n",
    "        \n",
    "       \n",
    "        o = self.gamma * torch.bmm(x,o) + x\n",
    "        \n",
    "           \n",
    "        return o.view(*size).contiguous()        \n",
    "        "
   ]
  },
  {
   "cell_type": "code",
   "execution_count": 7,
   "metadata": {},
   "outputs": [],
   "source": [
    "#unmodified from https://github.com/fastai/fastai/blob/9b9014b8967186dc70c65ca7dcddca1a1232d99d/fastai/vision/models/xresnet.py\n",
    "act_fn = nn.ReLU(inplace=True)\n",
    "\n",
    "def init_cnn(m):\n",
    "    if getattr(m, 'bias', None) is not None: nn.init.constant_(m.bias, 0)\n",
    "    if isinstance(m, (nn.Conv2d,nn.Linear)): nn.init.kaiming_normal_(m.weight)\n",
    "    for l in m.children(): init_cnn(l)\n",
    "\n",
    "def conv(ni, nf, ks=3, stride=1, bias=False):\n",
    "    return nn.Conv2d(ni, nf, kernel_size=ks, stride=stride, padding=ks//2, bias=bias)\n",
    "\n",
    "def noop(x): return x\n",
    "\n",
    "def conv_layer(ni, nf, ks=3, stride=1, zero_bn=False, act=True):\n",
    "    bn = nn.BatchNorm2d(nf)\n",
    "    nn.init.constant_(bn.weight, 0. if zero_bn else 1.)\n",
    "    layers = [conv(ni, nf, ks, stride=stride), bn]\n",
    "    if act: layers.append(act_fn)\n",
    "    return nn.Sequential(*layers)"
   ]
  },
  {
   "cell_type": "code",
   "execution_count": 8,
   "metadata": {},
   "outputs": [],
   "source": [
    "# Modified from https://github.com/fastai/fastai/blob/9b9014b8967186dc70c65ca7dcddca1a1232d99d/fastai/vision/models/xresnet.py\n",
    "# Added self attention\n",
    "class ResBlock(nn.Module):\n",
    "    def __init__(self, expansion, ni, nh, stride=1,sa=False):\n",
    "        super().__init__()\n",
    "        \n",
    "        \n",
    "        nf,ni = nh*expansion,ni*expansion\n",
    "        layers  = [conv_layer(ni, nh, 3, stride=stride),\n",
    "                   conv_layer(nh, nf, 3, zero_bn=True, act=False)\n",
    "        ] if expansion == 1 else [\n",
    "                   conv_layer(ni, nh, 1),\n",
    "                   conv_layer(nh, nh, 3, stride=stride),\n",
    "                   \n",
    "                   conv_layer(nh, nf, 1, zero_bn=True, act=False)\n",
    "                \n",
    "        ]\n",
    "        \n",
    "        self.sa = SimpleSelfAttention(nf,ks=1) if sa else noop\n",
    "        \n",
    "        self.convs = nn.Sequential(*layers)\n",
    "        self.idconv = noop if ni==nf else conv_layer(ni, nf, 1, act=False)\n",
    "        self.pool = noop if stride==1 else nn.AvgPool2d(2, ceil_mode=True)\n",
    "\n",
    "    def forward(self, x): \n",
    "        \n",
    "        \n",
    "        return act_fn(self.sa(self.convs(x)) + self.idconv(self.pool(x)))\n",
    "        "
   ]
  },
  {
   "cell_type": "code",
   "execution_count": 9,
   "metadata": {},
   "outputs": [],
   "source": [
    "# Modified from https://github.com/fastai/fastai/blob/9b9014b8967186dc70c65ca7dcddca1a1232d99d/fastai/vision/models/xresnet.py\n",
    "# Added self attention\n",
    "\n",
    "class XResNet_sa(nn.Sequential):\n",
    "    @classmethod\n",
    "    def create(cls, expansion, layers, c_in=3, c_out=1000):\n",
    "        nfs = [c_in, (c_in+1)*8, 64, 64]\n",
    "        stem = [conv_layer(nfs[i], nfs[i+1], stride=2 if i==0 else 1)\n",
    "            for i in range(3)]\n",
    "\n",
    "        nfs = [64//expansion,64,128,256,512]\n",
    "        res_layers = [cls._make_layer(expansion, nfs[i], nfs[i+1],\n",
    "                                      n_blocks=l, stride=1 if i==0 else 2, sa = True)\n",
    "                  for i,l in enumerate(layers)]\n",
    "        res = cls(\n",
    "            *stem,\n",
    "            nn.MaxPool2d(kernel_size=3, stride=2, padding=1),\n",
    "            *res_layers,\n",
    "            \n",
    "            nn.AdaptiveAvgPool2d(1), Flatten(),\n",
    "            nn.Linear(nfs[-1]*expansion, c_out),\n",
    "        )\n",
    "        init_cnn(res)\n",
    "        return res\n",
    "\n",
    "    @staticmethod\n",
    "    def _make_layer(expansion, ni, nf, n_blocks, stride, sa = False):\n",
    "        return nn.Sequential(\n",
    "            *[ResBlock(expansion, ni if i==0 else nf, nf, stride if i==0 else 1, sa if i in [n_blocks -1] else False)\n",
    "              for i in range(n_blocks)])"
   ]
  },
  {
   "cell_type": "code",
   "execution_count": 10,
   "metadata": {},
   "outputs": [],
   "source": [
    "def xresnet50_sa (**kwargs): return XResNet_sa.create(4, [3, 4,  6, 3], **kwargs)"
   ]
  },
  {
   "cell_type": "markdown",
   "metadata": {},
   "source": [
    "# Data loading"
   ]
  },
  {
   "cell_type": "code",
   "execution_count": 11,
   "metadata": {},
   "outputs": [],
   "source": [
    "#https://github.com/fastai/fastai/blob/master/examples/train_imagenette.py\n",
    "\n",
    "def get_data(size, woof, bs, workers=None):\n",
    "    if   size<=128: path = URLs.IMAGEWOOF_160 if woof else URLs.IMAGENETTE_160\n",
    "    elif size<=224: path = URLs.IMAGEWOOF_320 if woof else URLs.IMAGENETTE_320\n",
    "    else          : path = URLs.IMAGEWOOF     if woof else URLs.IMAGENETTE\n",
    "    path = untar_data(path)\n",
    "\n",
    "    n_gpus = num_distrib() or 1\n",
    "    if workers is None: workers = min(8, num_cpus()//n_gpus)\n",
    "\n",
    "    return (ImageList.from_folder(path).split_by_folder(valid='val')\n",
    "            .label_from_folder().transform(([flip_lr(p=0.5)], []), size=size)\n",
    "            .databunch(bs=bs, num_workers=workers)\n",
    "            .presize(size, scale=(0.35,1))\n",
    "            .normalize(imagenet_stats))"
   ]
  },
  {
   "cell_type": "markdown",
   "metadata": {},
   "source": [
    "# Train"
   ]
  },
  {
   "cell_type": "code",
   "execution_count": 12,
   "metadata": {},
   "outputs": [],
   "source": [
    "opt_func = partial(optim.Adam, betas=(0.9,0.99), eps=1e-6)"
   ]
  },
  {
   "cell_type": "code",
   "execution_count": 13,
   "metadata": {},
   "outputs": [],
   "source": [
    "# we use the same parameters for baseline and new model\n",
    "bs = 64\n",
    "lr = 3e-3\n",
    "mixup = 0\n",
    "num_loop = 30"
   ]
  },
  {
   "cell_type": "markdown",
   "metadata": {},
   "source": [
    "##### New model"
   ]
  },
  {
   "cell_type": "code",
   "execution_count": 14,
   "metadata": {},
   "outputs": [],
   "source": [
    "def do_cycle(epochs = 5):\n",
    "    m = xresnet50_sa(c_out=10)\n",
    "    learn = None\n",
    "    gc.collect()\n",
    "    learn = (Learner(data, m, wd=1e-2, opt_func=opt_func,\n",
    "             metrics=[accuracy,top_k_accuracy],\n",
    "             bn_wd=False, true_wd=True,\n",
    "             loss_func = LabelSmoothingCrossEntropy())\n",
    "            )\n",
    "    if mixup: learn = learn.mixup(alpha=mixup)\n",
    "    learn = learn.to_fp16(dynamic=True)\n",
    "    learn.fit_one_cycle(epochs, lr, div_factor=10, pct_start=0.3)\n",
    "    val_preds,val_targets = learn.get_preds()\n",
    "    return accuracy(val_preds, tensor(learn.data.valid_ds.y.items)).item()*100"
   ]
  },
  {
   "cell_type": "markdown",
   "metadata": {},
   "source": [
    "## Imagenette"
   ]
  },
  {
   "cell_type": "code",
   "execution_count": null,
   "metadata": {},
   "outputs": [],
   "source": [
    "image_size = 128\n",
    "data = get_data(image_size,woof =False,bs=bs)"
   ]
  },
  {
   "cell_type": "code",
   "execution_count": null,
   "metadata": {},
   "outputs": [
    {
     "name": "stdout",
     "output_type": "stream",
     "text": [
      "[85.6000006198883, 86.59999966621399, 88.40000033378601, 86.59999966621399, 88.20000290870667, 86.79999709129333, 87.00000047683716, 86.00000143051147, 88.59999775886536, 87.00000047683716, 86.40000224113464, 85.79999804496765, 87.00000047683716, 86.00000143051147, 87.59999871253967, 87.8000020980835, 87.00000047683716, 88.40000033378601, 88.59999775886536, 87.40000128746033, 89.20000195503235, 86.79999709129333, 86.19999885559082, 85.79999804496765, 87.1999979019165, 88.59999775886536, 86.59999966621399, 88.59999775886536, 87.59999871253967, 87.40000128746033]\n",
      "87.22666641076405 0.9835084239029221 85.6000006198883 89.20000195503235\n"
     ]
    }
   ],
   "source": [
    "results = []\n",
    "for i in range(num_loop):\n",
    "    results.append(do_cycle(epochs=5))\n",
    "    \n",
    "print(results)\n",
    "print(np.mean(results), np.std(results), np.min(results), np.max(results))"
   ]
  },
  {
   "cell_type": "code",
   "execution_count": null,
   "metadata": {},
   "outputs": [],
   "source": [
    "image_size = 256\n",
    "data = get_data(image_size,woof =False,bs=bs)"
   ]
  },
  {
   "cell_type": "code",
   "execution_count": null,
   "metadata": {},
   "outputs": [
    {
     "name": "stdout",
     "output_type": "stream",
     "text": [
      "[89.20000195503235, 87.99999952316284, 87.99999952316284, 87.40000128746033, 87.59999871253967, 88.59999775886536, 88.20000290870667, 87.8000020980835, 87.8000020980835, 88.80000114440918, 88.99999856948853, 88.59999775886536, 87.99999952316284, 87.40000128746033, 89.20000195503235, 87.99999952316284, 89.20000195503235, 87.40000128746033, 87.8000020980835, 87.8000020980835, 87.99999952316284, 88.99999856948853, 88.99999856948853, 89.20000195503235, 88.59999775886536, 88.20000290870667, 88.99999856948853, 89.80000019073486, 88.80000114440918, 88.80000114440918]\n",
      "88.40666711330414 0.6459787553234654 87.40000128746033 89.80000019073486\n"
     ]
    }
   ],
   "source": [
    "results = []\n",
    "for i in range(num_loop):\n",
    "    results.append(do_cycle(epochs=5))\n",
    "    \n",
    "print(results)\n",
    "print(np.mean(results), np.std(results), np.min(results), np.max(results))"
   ]
  },
  {
   "cell_type": "code",
   "execution_count": null,
   "metadata": {},
   "outputs": [
    {
     "name": "stdout",
     "output_type": "stream",
     "text": [
      "[94.59999799728394, 94.9999988079071, 95.59999704360962, 94.40000057220459, 93.4000015258789, 94.19999718666077, 93.59999895095825, 93.99999976158142, 94.19999718666077, 93.19999814033508, 94.19999718666077, 94.80000138282776, 94.9999988079071, 94.80000138282776, 94.40000057220459, 94.59999799728394, 94.9999988079071, 95.20000219345093, 93.80000233650208, 93.80000233650208, 94.80000138282776, 94.40000057220459, 94.59999799728394, 94.59999799728394, 93.59999895095825, 94.59999799728394, 94.40000057220459, 93.19999814033508, 94.80000138282776, 94.19999718666077]\n",
      "94.3666660785675 0.5821416307871524 93.19999814033508 95.59999704360962\n"
     ]
    }
   ],
   "source": [
    "results = []\n",
    "for i in range(num_loop):\n",
    "    results.append(do_cycle(epochs=20))\n",
    "    \n",
    "print(results)\n",
    "print(np.mean(results), np.std(results), np.min(results), np.max(results))"
   ]
  },
  {
   "cell_type": "markdown",
   "metadata": {},
   "source": [
    "## Imagewoof"
   ]
  },
  {
   "cell_type": "code",
   "execution_count": null,
   "metadata": {},
   "outputs": [],
   "source": [
    "image_size = 128\n",
    "data = get_data(image_size,woof =True,bs=bs)"
   ]
  },
  {
   "cell_type": "code",
   "execution_count": null,
   "metadata": {},
   "outputs": [
    {
     "name": "stdout",
     "output_type": "stream",
     "text": [
      "[87.99999952316284, 87.1999979019165, 86.40000224113464, 87.8000020980835, 88.59999775886536, 87.00000047683716, 86.59999966621399, 87.00000047683716, 86.59999966621399, 86.79999709129333, 87.99999952316284, 86.79999709129333, 87.8000020980835, 86.19999885559082, 87.59999871253967, 86.59999966621399, 85.19999980926514, 87.1999979019165, 87.8000020980835, 87.99999952316284, 87.40000128746033, 87.40000128746033, 87.59999871253967, 86.59999966621399, 86.19999885559082, 88.20000290870667, 87.40000128746033, 87.1999979019165, 87.1999979019165, 86.40000224113464]\n",
      "87.15999980767567 0.7181459432366524 85.19999980926514 88.59999775886536\n"
     ]
    }
   ],
   "source": [
    "results = []\n",
    "for i in range(num_loop):\n",
    "    results.append(do_cycle(epochs=5))\n",
    "    \n",
    "print(results)\n",
    "print(np.mean(results), np.std(results), np.min(results), np.max(results))"
   ]
  },
  {
   "cell_type": "code",
   "execution_count": null,
   "metadata": {},
   "outputs": [],
   "source": [
    "image_size = 256\n",
    "data = get_data(image_size,woof =True,bs=bs)"
   ]
  },
  {
   "cell_type": "code",
   "execution_count": null,
   "metadata": {},
   "outputs": [
    {
     "name": "stdout",
     "output_type": "stream",
     "text": [
      "[64.60000276565552, 70.39999961853027, 68.59999895095825, 71.20000123977661, 70.59999704360962, 69.19999718666077, 67.59999990463257, 69.9999988079071, 72.79999852180481, 68.59999895095825, 71.79999947547913, 69.40000057220459, 72.2000002861023, 71.20000123977661, 67.59999990463257, 65.20000100135803, 64.20000195503235, 71.39999866485596, 69.9999988079071, 68.19999814033508, 65.20000100135803, 70.39999961853027, 70.59999704360962, 69.19999718666077, 68.80000233650208, 72.79999852180481, 68.4000015258789, 70.99999785423279, 70.59999704360962, 66.79999828338623]\n",
      "69.28666611512502 2.3034362958166295 64.20000195503235 72.79999852180481\n"
     ]
    }
   ],
   "source": [
    "results = []\n",
    "for i in range(num_loop):\n",
    "    results.append(do_cycle(epochs=5))\n",
    "    \n",
    "print(results)\n",
    "print(np.mean(results), np.std(results), np.min(results), np.max(results))"
   ]
  },
  {
   "cell_type": "code",
   "execution_count": null,
   "metadata": {},
   "outputs": [
    {
     "name": "stdout",
     "output_type": "stream",
     "text": [
      "[86.19999885559082, 86.00000143051147, 85.6000006198883, 86.19999885559082, 84.60000157356262, 86.40000224113464, 84.79999899864197, 85.79999804496765, 86.00000143051147, 87.00000047683716, 85.79999804496765, 86.59999966621399, 86.00000143051147, 87.8000020980835, 87.8000020980835, 84.79999899864197, 86.40000224113464, 86.19999885559082, 85.39999723434448, 85.6000006198883, 86.40000224113464, 86.59999966621399, 86.00000143051147, 85.79999804496765, 86.59999966621399, 85.39999723434448, 86.79999709129333, 86.00000143051147, 87.00000047683716, 86.40000224113464]\n",
      "86.13333344459534 0.7399705202532939 84.60000157356262 87.8000020980835\n"
     ]
    }
   ],
   "source": [
    "results = []\n",
    "for i in range(num_loop):\n",
    "    results.append(do_cycle(epochs=20))\n",
    "    \n",
    "print(results)\n",
    "print(np.mean(results), np.std(results), np.min(results), np.max(results))"
   ]
  },
  {
   "cell_type": "code",
   "execution_count": null,
   "metadata": {},
   "outputs": [
    {
     "name": "stdout",
     "output_type": "stream",
     "text": [
      "[88.80000114440918, 89.60000276565552, 90.20000100135803, 90.6000018119812, 88.80000114440918, 89.80000019073486, 89.3999993801117, 89.60000276565552, 89.80000019073486, 90.39999842643738, 89.80000019073486, 90.6000018119812, 89.80000019073486, 88.99999856948853, 89.3999993801117, 89.80000019073486, 88.59999775886536, 89.3999993801117, 90.20000100135803, 89.3999993801117, 89.80000019073486, 89.60000276565552, 90.20000100135803, 89.60000276565552, 90.20000100135803, 89.20000195503235, 87.40000128746033, 88.20000290870667, 89.99999761581421, 88.99999856948853]\n",
      "89.54000055789948 0.6950299745968395 87.40000128746033 90.6000018119812\n"
     ]
    }
   ],
   "source": [
    "results = []\n",
    "for i in range(num_loop):\n",
    "    results.append(do_cycle(epochs=80))\n",
    "    \n",
    "print(results)\n",
    "print(np.mean(results), np.std(results), np.min(results), np.max(results))"
   ]
  },
  {
   "cell_type": "code",
   "execution_count": null,
   "metadata": {},
   "outputs": [
    {
     "data": {
      "text/html": [
       "\n",
       "    <div>\n",
       "        <style>\n",
       "            /* Turns off some styling */\n",
       "            progress {\n",
       "                /* gets rid of default border in Firefox and Opera. */\n",
       "                border: none;\n",
       "                /* Needs to be in here for Safari polyfill so background images work as expected. */\n",
       "                background-size: auto;\n",
       "            }\n",
       "            .progress-bar-interrupted, .progress-bar-interrupted::-webkit-progress-bar {\n",
       "                background: #F44336;\n",
       "            }\n",
       "        </style>\n",
       "      <progress value='0' class='' max='400', style='width:300px; height:20px; vertical-align: middle;'></progress>\n",
       "      0.00% [0/400 00:00<00:00]\n",
       "    </div>\n",
       "    \n",
       "<table border=\"1\" class=\"dataframe\">\n",
       "  <thead>\n",
       "    <tr style=\"text-align: left;\">\n",
       "      <th>epoch</th>\n",
       "      <th>train_loss</th>\n",
       "      <th>valid_loss</th>\n",
       "      <th>accuracy</th>\n",
       "      <th>top_k_accuracy</th>\n",
       "      <th>time</th>\n",
       "    </tr>\n",
       "  </thead>\n",
       "  <tbody>\n",
       "  </tbody>\n",
       "</table><p>\n",
       "\n",
       "    <div>\n",
       "        <style>\n",
       "            /* Turns off some styling */\n",
       "            progress {\n",
       "                /* gets rid of default border in Firefox and Opera. */\n",
       "                border: none;\n",
       "                /* Needs to be in here for Safari polyfill so background images work as expected. */\n",
       "                background-size: auto;\n",
       "            }\n",
       "            .progress-bar-interrupted, .progress-bar-interrupted::-webkit-progress-bar {\n",
       "                background: #F44336;\n",
       "            }\n",
       "        </style>\n",
       "      <progress value='118' class='' max='194', style='width:300px; height:20px; vertical-align: middle;'></progress>\n",
       "      60.82% [118/194 00:51<00:33 2.1186]\n",
       "    </div>\n",
       "    "
      ],
      "text/plain": [
       "<IPython.core.display.HTML object>"
      ]
     },
     "metadata": {},
     "output_type": "display_data"
    }
   ],
   "source": [
    "results = []\n",
    "for i in range(num_loop//5):\n",
    "    results.append(do_cycle(epochs=400))\n",
    "    \n",
    "print(results)\n",
    "print(np.mean(results), np.std(results), np.min(results), np.max(results))"
   ]
  }
 ],
 "metadata": {
  "kernelspec": {
   "display_name": "Python 3",
   "language": "python",
   "name": "python3"
  },
  "language_info": {
   "codemirror_mode": {
    "name": "ipython",
    "version": 3
   },
   "file_extension": ".py",
   "mimetype": "text/x-python",
   "name": "python",
   "nbconvert_exporter": "python",
   "pygments_lexer": "ipython3",
   "version": "3.7.3"
  }
 },
 "nbformat": 4,
 "nbformat_minor": 2
}
